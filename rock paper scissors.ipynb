{
 "cells": [
  {
   "cell_type": "code",
   "execution_count": null,
   "metadata": {},
   "outputs": [],
   "source": [
    "import random\n",
    "\n",
    "moves = ['r','p','s']\n",
    "player_wins = ['pr','sp','rs']\n",
    "\n",
    "player_score = 0\n",
    "computer_score = 0\n",
    "while True:\n",
    "    player_move = input(\"your move\")\n",
    "    if player_move == 'q':\n",
    "        break\n",
    "    computer_move = random.choice(moves)\n",
    "\n",
    "    print(\"you:\" , player_move)\n",
    "    print(\"computer:\" , computer_move)\n",
    "\n",
    "    if player_move == computer_move:\n",
    "        print(\"tie\")\n",
    "    elif player_move + computer_move in player_wins:\n",
    "        print(\"your win\")\n",
    "        player_score += 1\n",
    "    else:\n",
    "        print(\"better luck next time\")\n",
    "        computer_score += 1\n",
    "    print(\"player score: \" + str(player_score))\n",
    "    print(\"computer score: \" + str(computer_score))\n",
    "    "
   ]
  },
  {
   "cell_type": "raw",
   "metadata": {},
   "source": []
  },
  {
   "cell_type": "code",
   "execution_count": null,
   "metadata": {},
   "outputs": [],
   "source": [
    "\n",
    "\n"
   ]
  },
  {
   "cell_type": "code",
   "execution_count": null,
   "metadata": {},
   "outputs": [],
   "source": []
  }
 ],
 "metadata": {
  "kernelspec": {
   "display_name": "Python 3",
   "language": "python",
   "name": "python3"
  }
 },
 "nbformat": 4,
 "nbformat_minor": 2
}
