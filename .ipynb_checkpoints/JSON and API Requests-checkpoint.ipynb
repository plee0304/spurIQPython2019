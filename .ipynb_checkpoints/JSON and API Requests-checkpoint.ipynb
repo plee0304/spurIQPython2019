{
 "cells": [
  {
   "cell_type": "markdown",
   "metadata": {},
   "source": [
    "![](https://i0.wp.com/spuriq.com/wp-content/uploads/2019/03/spuriq_site_logo_tagline.png?zoom=2&fit=150%2C69&ssl=1)"
   ]
  },
  {
   "cell_type": "markdown",
   "metadata": {},
   "source": [
    "# JSON and API Requests"
   ]
  },
  {
   "cell_type": "markdown",
   "metadata": {},
   "source": [
    "## Setup"
   ]
  },
  {
   "cell_type": "code",
   "execution_count": 1,
   "metadata": {},
   "outputs": [],
   "source": [
    "import requests\n",
    "import json"
   ]
  },
  {
   "cell_type": "markdown",
   "metadata": {},
   "source": [
    "## JSON to Python"
   ]
  },
  {
   "cell_type": "code",
   "execution_count": 2,
   "metadata": {},
   "outputs": [
    {
     "name": "stdout",
     "output_type": "stream",
     "text": [
      "{'name': 'John', 'age': 30, 'city': 'New York'}\n",
      "30\n"
     ]
    }
   ],
   "source": [
    "x =  '{ \"name\":\"John\", \"age\":30, \"city\":\"New York\"}'\n",
    "y = json.loads(x)   # parse x\n",
    "print(y)            # the result is a Python dictionary\n",
    "print(y[\"age\"])     # access dictionary values"
   ]
  },
  {
   "cell_type": "markdown",
   "metadata": {},
   "source": [
    "## Python to JSON"
   ]
  },
  {
   "cell_type": "code",
   "execution_count": 3,
   "metadata": {},
   "outputs": [
    {
     "name": "stdout",
     "output_type": "stream",
     "text": [
      "{\"name\": \"John\", \"age\": 30, \"city\": \"New York\"}\n"
     ]
    }
   ],
   "source": [
    "x = {\n",
    "  \"name\": \"John\",\n",
    "  \"age\": 30,\n",
    "  \"city\": \"New York\"\n",
    "}\n",
    "y = json.dumps(x)   # convert into JSON\n",
    "print(y)            # the result is a JSON string"
   ]
  },
  {
   "cell_type": "markdown",
   "metadata": {},
   "source": [
    "## JSON Request Example"
   ]
  },
  {
   "cell_type": "code",
   "execution_count": 4,
   "metadata": {},
   "outputs": [
    {
     "name": "stdout",
     "output_type": "stream",
     "text": [
      "Pokemon names:\n",
      "bulbasaur\n",
      "ivysaur\n",
      "venusaur\n",
      "charmander\n",
      "charmeleon\n",
      "charizard\n",
      "squirtle\n",
      "wartortle\n",
      "blastoise\n",
      "caterpie\n",
      "metapod\n",
      "butterfree\n",
      "weedle\n",
      "kakuna\n",
      "beedrill\n",
      "pidgey\n",
      "pidgeotto\n",
      "pidgeot\n",
      "rattata\n",
      "raticate\n"
     ]
    }
   ],
   "source": [
    "url = 'http://pokeapi.co/api/v2/pokemon/'\n",
    "request = requests.get(url)\n",
    "data = json.loads(request.content)\n",
    "\n",
    "print('Pokemon names:')\n",
    "for pokemon in data['results']:\n",
    "   print(pokemon['name'])"
   ]
  },
  {
   "cell_type": "code",
   "execution_count": null,
   "metadata": {},
   "outputs": [],
   "source": []
  }
 ],
 "metadata": {
  "kernelspec": {
   "display_name": "Python 3",
   "language": "python",
   "name": "python3"
  },
  "language_info": {
   "codemirror_mode": {
    "name": "ipython",
    "version": 3
   },
   "file_extension": ".py",
   "mimetype": "text/x-python",
   "name": "python",
   "nbconvert_exporter": "python",
   "pygments_lexer": "ipython3",
   "version": "3.7.3"
  }
 },
 "nbformat": 4,
 "nbformat_minor": 2
}
