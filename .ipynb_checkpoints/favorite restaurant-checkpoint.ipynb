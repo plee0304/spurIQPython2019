{
 "cells": [
  {
   "cell_type": "code",
   "execution_count": 65,
   "metadata": {},
   "outputs": [],
   "source": [
    "import sqlite3 as sq3\n",
    "import ipywidgets as widgets\n"
   ]
  },
  {
   "cell_type": "code",
   "execution_count": 79,
   "metadata": {
    "scrolled": true
   },
   "outputs": [],
   "source": [
    "import sqlite3\n",
    "\n",
    "def createTable():\n",
    "    mydb = sqlite3.connect(\"mydatabase.db\")\n",
    "    mycursor = mydb.cursor()\n",
    "    mycursor.execute(\"CREATE TABLE FavRest (id INTEGER PRIMARY KEY, restaurant VARCHAR(255), foodType VARCHAR(255), Rating VARCHAR(255), Price VARCHAR(255))\")\n",
    "    mydb.close()\n",
    "\n",
    "\n",
    "createTable()\n",
    "    \n"
   ]
  },
  {
   "cell_type": "code",
   "execution_count": 80,
   "metadata": {},
   "outputs": [],
   "source": [
    "import sqlite3\n",
    "\n",
    "def fillTable():\n",
    "    mydb = sqlite3.connect(\"mydatabase.db\")\n",
    "    mycursor = mydb.cursor()\n",
    "    sql = \"INSERT INTO FavRest (restaurant, foodType, Rating, Price) VALUES (?, ?, ?, ?)\"\n",
    "    val = [\n",
    "    ('China Wok', 'Chinese', '3.9', '$$'),\n",
    "    ('chipotle', 'mexican', '4.1', '$'),\n",
    "    ('lados', 'pakistani', '4.9', '$'),\n",
    "    ('sawa', 'japanese', '4.1', '$$$$')\n",
    "    ]\n",
    "    mycursor.executemany(sql, val)\n",
    "    mydb.commit()\n",
    "    mydb.close()\n",
    "\n",
    "def viewTable():\n",
    "    mydb = sqlite3.connect(\"mydatabase.db\")\n",
    "    mycursor = mydb.cursor()\n",
    "    sql = \"SELECT * FROM FavRest ORDER BY restaurant\"\n",
    "    mycursor.execute(sql)\n",
    "    tableData = mycursor.fetchall()\n",
    "    for x in tableData:\n",
    "        print(x)\n",
    "    mydb.commit()\n",
    "    mydb.close()\n",
    "\n",
    "\n",
    "fillTable()\n",
    "\n"
   ]
  },
  {
   "cell_type": "code",
   "execution_count": 81,
   "metadata": {},
   "outputs": [
    {
     "data": {
      "application/vnd.jupyter.widget-view+json": {
       "model_id": "",
       "version_major": 2,
       "version_minor": 0
      },
      "text/plain": [
       "Button(description='Name', style=ButtonStyle())"
      ]
     },
     "metadata": {},
     "output_type": "display_data"
    },
    {
     "data": {
      "application/vnd.jupyter.widget-view+json": {
       "model_id": "",
       "version_major": 2,
       "version_minor": 0
      },
      "text/plain": [
       "Button(description='Food Type', style=ButtonStyle())"
      ]
     },
     "metadata": {},
     "output_type": "display_data"
    },
    {
     "data": {
      "application/vnd.jupyter.widget-view+json": {
       "model_id": "",
       "version_major": 2,
       "version_minor": 0
      },
      "text/plain": [
       "Button(description='Rating', style=ButtonStyle())"
      ]
     },
     "metadata": {},
     "output_type": "display_data"
    },
    {
     "data": {
      "application/vnd.jupyter.widget-view+json": {
       "model_id": "",
       "version_major": 2,
       "version_minor": 0
      },
      "text/plain": [
       "Button(description='Price', style=ButtonStyle())"
      ]
     },
     "metadata": {},
     "output_type": "display_data"
    },
    {
     "name": "stdout",
     "output_type": "stream",
     "text": [
      "(1, 'China Wok', 'Chinese', '3.9', '$$')\n",
      "(2, 'chipotle', 'mexican', '4.1', '$')\n",
      "(3, 'lados', 'pakistani', '4.9', '$')\n",
      "(4, 'sawa', 'japanese', '4.1', '$$$$')\n"
     ]
    }
   ],
   "source": [
    "words = ['Name', 'Food Type', 'Rating', 'Price']\n",
    "items = [widgets.Button(description=w) for w in words]\n",
    "left_box = widgets.VBox([items[0], items[1]])\n",
    "right_box = widgets.VBox([items[2], items[3]])\n",
    "widgets.HBox([left_box, right_box])\n",
    "def closeClickMe():\n",
    "    for i in range(0,len(items)):\n",
    "        items[i].close()\n",
    "for i in range(0,len(items)):\n",
    "        display(items[i])\n",
    "\n",
    "def orderbyN():\n",
    "    mydb = sq3.connect(\"mydatabase.db\")\n",
    "    mycursor = mydb.cursor()\n",
    "    sql = \"SELECT * FROM FavRest ORDER BY Restaurant\"\n",
    "    mycursor.execute(sql)\n",
    "    myresult = mycursor.fetchall()\n",
    "    for x in myresult:\n",
    "        print (x)\n",
    "    mydb.close()\n",
    "\n",
    "def orderbyF():\n",
    "    mydb = sq3.connect(\"mydatabase.db\")\n",
    "    mycursor = mydb.cursor()\n",
    "    sql = \"SELECT * FROM FavRest ORDER BY FoodType\"\n",
    "    mycursor.execute(sql)\n",
    "    myresult = mycursor.fetchall()\n",
    "    for c in myresult:\n",
    "        print (c)\n",
    "    mydb.close()\n",
    "\n",
    "def orderbyR():\n",
    "    mydb = sq3.connect(\"mydatabase.db\")\n",
    "    mycursor = mydb.cursor()\n",
    "    sql = \"SELECT * FROM FavRest ORDER BY Rating\"\n",
    "    mycursor.execute(sql)\n",
    "    myresult = mycursor.fetchall()\n",
    "    for a in myresult:\n",
    "        print (a)\n",
    "    mydb.close()\n",
    "\n",
    "def orderbyP():\n",
    "    mydb = sq3.connect(\"mydatabase.db\")\n",
    "    mycursor = mydb.cursor()\n",
    "    sql = \"SELECT * FROM FavRest ORDER BY Price\"\n",
    "    mycursor.execute(sql)\n",
    "    myresult = mycursor.fetchall()\n",
    "    for b in myresult:\n",
    "        print (b)\n",
    "    mydb.close()\n",
    "\n",
    "def game(b):\n",
    "    mydb = sqlite3.connect(\"mydatabase.db\")\n",
    "    mycursor = mydb.cursor()\n",
    "    sql = \"SELECT * FROM FavRest WHERE foodType = ?\"\n",
    "    FavRest = [b.description]\n",
    "    mycursor.execute(sql, FavRest)\n",
    "    \n",
    "    if \"Name\" in FavRest:\n",
    "        orderbyN()\n",
    "        closeClickMe()\n",
    "    elif \"Food Type\" in FavRest:\n",
    "        orderbyF()\n",
    "        closeClickMe()\n",
    "    elif \"Rating\" in FavRest:\n",
    "        orderbyR()\n",
    "        closeClickMe()\n",
    "    elif \"Price\" in FavRest:\n",
    "        orderbyP()\n",
    "        closeClickMe()\n",
    "\n",
    "items[0].on_click(game)\n",
    "items[1].on_click(game)\n",
    "items[2].on_click(game)\n",
    "items[3].on_click(game)"
   ]
  },
  {
   "cell_type": "markdown",
   "metadata": {},
   "source": [
    "# remember to always delete"
   ]
  },
  {
   "cell_type": "code",
   "execution_count": 82,
   "metadata": {},
   "outputs": [],
   "source": [
    "def deleteTable():\n",
    "    mydb = sqlite3.connect(\"mydatabase.db\")\n",
    "    mycursor = mydb.cursor()\n",
    "    sql = \"DROP TABLE FavRest\"\n",
    "    mycursor.execute(sql)\n",
    "    mydb.close()\n",
    "    \n",
    "deleteTable()"
   ]
  },
  {
   "cell_type": "code",
   "execution_count": null,
   "metadata": {},
   "outputs": [],
   "source": []
  }
 ],
 "metadata": {
  "kernelspec": {
   "display_name": "Python 3",
   "language": "python",
   "name": "python3"
  },
  "language_info": {
   "codemirror_mode": {
    "name": "ipython",
    "version": 3
   },
   "file_extension": ".py",
   "mimetype": "text/x-python",
   "name": "python",
   "nbconvert_exporter": "python",
   "pygments_lexer": "ipython3",
   "version": "3.7.3"
  }
 },
 "nbformat": 4,
 "nbformat_minor": 2
}
